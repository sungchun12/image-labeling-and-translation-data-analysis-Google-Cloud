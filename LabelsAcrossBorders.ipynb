{
  "nbformat": 4,
  "nbformat_minor": 0,
  "metadata": {
    "colab": {
      "name": "LabelsAcrossBorders.ipynb",
      "version": "0.3.2",
      "provenance": [],
      "collapsed_sections": [],
      "toc_visible": true
    },
    "kernelspec": {
      "name": "python2",
      "display_name": "Python 2"
    },
    "accelerator": "GPU"
  },
  "cells": [
    {
      "cell_type": "markdown",
      "metadata": {
        "id": "view-in-github",
        "colab_type": "text"
      },
      "source": [
        "[View in Colaboratory](https://colab.research.google.com/github/sungchun12/image-labeling-and-translation-data-analysis-Google-Cloud/blob/master/LabelsAcrossBorders.ipynb)"
      ]
    },
    {
      "metadata": {
        "id": "U87hLpECZiYC",
        "colab_type": "text"
      },
      "cell_type": "markdown",
      "source": [
        "\n",
        "# **Labels Across Borders**\n",
        "\n",
        "**By: **Sung Won Chung\n",
        "\n",
        "**LinkedIn: **https://www.linkedin.com/in/sungwonchung1/\n",
        "\n",
        "**Vision: ** I made this because demystifying programming, machine learning, and every other buzzword under the sun is the name of the game. \n",
        "\n",
        "Whoever's reading this, I hope you feel more liberated to explore all the cutting edge tech freely available and accessible literally at your fingertips. \n",
        "\n",
        "**Use Case: **Label images and share end results in both English and foreign language\n",
        "\n",
        "**Technologies:** Colaboratory, Cloud Vision API, Cloud Translate API, Bigquery\n",
        "\n",
        "**Languages: **Python, SQL\n",
        "\n",
        "**Order of Operations: **\n",
        "\n",
        "\n",
        "*  Import packages and API in Colaboratory\n",
        "*  Get images from: https://bigquery.cloud.google.com/table/bigquery-public-data:the_met.images?tab=preview\n",
        "*  Label images\n",
        "*  Translate results into another language(Spanish)\n",
        "*  Export into BigQuery for SQL analysis\n",
        "*  Share end results with someone who speaks another language(most important part!)\n",
        "\n",
        "\n",
        "**Reference:** https://github.com/GoogleCloudPlatform/training-data-analyst/blob/master/CPB100/lab4c/mlapis.ipynb\n",
        "\n",
        "\n",
        "\n"
      ]
    },
    {
      "metadata": {
        "id": "ftjtvTTNb7Ii",
        "colab_type": "text"
      },
      "cell_type": "markdown",
      "source": [
        "#**Import Packages**\n",
        "\n",
        "\n",
        "\n",
        "*   Enable FREE access to Colaboratory: https://colab.research.google.com\n",
        "*   Enable Google Cloud APIs: Cloud Vision API, Cloud Translate API, Bigquery\n",
        "*   Set up the access credentials and packages necessary. These essentially make the code lightweight\n",
        "*   Extra packages are added for other analysis\n",
        "\n"
      ]
    },
    {
      "metadata": {
        "id": "iBS-1aWN5eES",
        "colab_type": "code",
        "colab": {}
      },
      "cell_type": "code",
      "source": [
        "#@title Credentials { run: \"auto\", display-mode: \"both\" }\n",
        "\n",
        "# Replace with your API key\n",
        "APIKEY = \"REPLACE\" #@param {type:\"string\"} \n",
        "\n",
        "#Replace wth your project ID\n",
        "project_id = \"demos-sung\" #@param {type:\"string\"}\n",
        "\n",
        "#setup authentication for GCP project and APIs\n",
        "from google.colab import auth #authorize colaboratory Google Cloud access\n",
        "auth.authenticate_user()"
      ],
      "execution_count": 0,
      "outputs": []
    },
    {
      "metadata": {
        "id": "NtTO4Oag57Ha",
        "colab_type": "code",
        "colab": {
          "base_uri": "https://localhost:8080/",
          "height": 170
        },
        "outputId": "d6820660-3303-4c52-9d24-9e13ca8e86af"
      },
      "cell_type": "code",
      "source": [
        "#import custom packages for analysis\n",
        "\n",
        "import pandas as pd #package for dataframes\n",
        "import numpy as np\n",
        "import argparse\n",
        "import io\n",
        "import base64 #encodes images to pass through Cloud Vision API\n",
        "from IPython.display import Image #package for displaying images\n",
        "from IPython.core.display import HTML #package for displaying url images\n",
        "!pip install --upgrade google-api-python-client #install necessary api functionality\n",
        "from googleapiclient.discovery import build #import api function\n"
      ],
      "execution_count": 9,
      "outputs": [
        {
          "output_type": "stream",
          "text": [
            "Looking in indexes: https://pypi.org/simple, https://legacy.pypi.org/simple\n",
            "Requirement already up-to-date: google-api-python-client in /usr/local/lib/python2.7/dist-packages (1.6.6)\n",
            "Requirement not upgraded as not directly required: six<2dev,>=1.6.1 in /usr/local/lib/python2.7/dist-packages (from google-api-python-client) (1.11.0)\n",
            "Requirement not upgraded as not directly required: httplib2<1dev,>=0.9.2 in /usr/local/lib/python2.7/dist-packages (from google-api-python-client) (0.11.3)\n",
            "Requirement not upgraded as not directly required: oauth2client<5.0.0dev,>=1.5.0 in /usr/local/lib/python2.7/dist-packages (from google-api-python-client) (4.1.2)\n",
            "Requirement not upgraded as not directly required: uritemplate<4dev,>=3.0.0 in /usr/local/lib/python2.7/dist-packages (from google-api-python-client) (3.0.0)\n",
            "Requirement not upgraded as not directly required: rsa>=3.1.4 in /usr/local/lib/python2.7/dist-packages (from oauth2client<5.0.0dev,>=1.5.0->google-api-python-client) (3.4.2)\n",
            "Requirement not upgraded as not directly required: pyasn1>=0.1.7 in /usr/local/lib/python2.7/dist-packages (from oauth2client<5.0.0dev,>=1.5.0->google-api-python-client) (0.4.2)\n",
            "Requirement not upgraded as not directly required: pyasn1-modules>=0.0.5 in /usr/local/lib/python2.7/dist-packages (from oauth2client<5.0.0dev,>=1.5.0->google-api-python-client) (0.2.1)\n"
          ],
          "name": "stdout"
        }
      ]
    },
    {
      "metadata": {
        "id": "jlylfhEHdh4D",
        "colab_type": "text"
      },
      "cell_type": "markdown",
      "source": [
        "# Import Data\n",
        "\n",
        "\n",
        "*   Extract sample data from BigQuery into pandas dataframe\n",
        "\n"
      ]
    },
    {
      "metadata": {
        "id": "62NEMHiuDqoc",
        "colab_type": "code",
        "colab": {
          "base_uri": "https://localhost:8080/",
          "height": 34
        },
        "outputId": "02832c28-671b-4722-c824-d9a54837f465"
      },
      "cell_type": "code",
      "source": [
        "#sample the image library within BigQuery public dataset and print row count\n",
        "#ability to write SQL queries \n",
        "\n",
        "sample_count = 10\n",
        "row_count = pd.io.gbq.read_gbq('''\n",
        "  SELECT \n",
        "    COUNT(*) as total\n",
        "  FROM [bigquery-public-data:open_images.images]''', project_id=project_id, verbose=False).total[0]\n",
        "\n",
        "df = pd.io.gbq.read_gbq('''\n",
        "  SELECT\n",
        "    *\n",
        "  FROM\n",
        "    [bigquery-public-data:open_images.images]\n",
        "  WHERE RAND() < %d/%d\n",
        "''' % (sample_count, row_count), project_id=project_id, verbose=False)\n",
        "\n",
        "print('Full dataset has %d rows' % row_count)"
      ],
      "execution_count": 10,
      "outputs": [
        {
          "output_type": "stream",
          "text": [
            "Full dataset has 9178275 rows\n"
          ],
          "name": "stdout"
        }
      ]
    },
    {
      "metadata": {
        "id": "UwIBHfQ-AsE-",
        "colab_type": "code",
        "colab": {
          "base_uri": "https://localhost:8080/",
          "height": 733
        },
        "outputId": "7c89dfc2-0d3c-410d-c4f3-3c5eaf9f4309"
      },
      "cell_type": "code",
      "source": [
        "#show sample data\n",
        "\n",
        "df"
      ],
      "execution_count": 11,
      "outputs": [
        {
          "output_type": "execute_result",
          "data": {
            "text/html": [
              "<div>\n",
              "<style scoped>\n",
              "    .dataframe tbody tr th:only-of-type {\n",
              "        vertical-align: middle;\n",
              "    }\n",
              "\n",
              "    .dataframe tbody tr th {\n",
              "        vertical-align: top;\n",
              "    }\n",
              "\n",
              "    .dataframe thead th {\n",
              "        text-align: right;\n",
              "    }\n",
              "</style>\n",
              "<table border=\"1\" class=\"dataframe\">\n",
              "  <thead>\n",
              "    <tr style=\"text-align: right;\">\n",
              "      <th></th>\n",
              "      <th>image_id</th>\n",
              "      <th>subset</th>\n",
              "      <th>original_url</th>\n",
              "      <th>original_landing_url</th>\n",
              "      <th>license</th>\n",
              "      <th>author_profile_url</th>\n",
              "      <th>author</th>\n",
              "      <th>title</th>\n",
              "      <th>original_size</th>\n",
              "      <th>original_md5</th>\n",
              "      <th>thumbnail_300k_url</th>\n",
              "    </tr>\n",
              "  </thead>\n",
              "  <tbody>\n",
              "    <tr>\n",
              "      <th>0</th>\n",
              "      <td>8e352b4e13bb97cc</td>\n",
              "      <td>train</td>\n",
              "      <td>https://c5.staticflickr.com/8/7005/6843277839_...</td>\n",
              "      <td>https://www.flickr.com/photos/jodastephen/6843...</td>\n",
              "      <td>https://creativecommons.org/licenses/by/2.0/</td>\n",
              "      <td>https://www.flickr.com/people/jodastephen/</td>\n",
              "      <td>Stephen Colebourne</td>\n",
              "      <td>Venice</td>\n",
              "      <td>2549790</td>\n",
              "      <td>rg6jFPICH0lzwJa+TBb7Jw==</td>\n",
              "      <td>https://c2.staticflickr.com/8/7005/6843277839_...</td>\n",
              "    </tr>\n",
              "    <tr>\n",
              "      <th>1</th>\n",
              "      <td>342cea1b9508e2e7</td>\n",
              "      <td>train</td>\n",
              "      <td>https://farm8.staticflickr.com/2079/2513092437...</td>\n",
              "      <td>https://www.flickr.com/photos/jrover/2513092437</td>\n",
              "      <td>https://creativecommons.org/licenses/by/2.0/</td>\n",
              "      <td>https://www.flickr.com/people/jrover/</td>\n",
              "      <td>Jeremy Rover</td>\n",
              "      <td>Diving the Canyon</td>\n",
              "      <td>312222</td>\n",
              "      <td>fp9BMt4meO6XXJCunh6yeA==</td>\n",
              "      <td>https://c3.staticflickr.com/3/2079/2513092437_...</td>\n",
              "    </tr>\n",
              "    <tr>\n",
              "      <th>2</th>\n",
              "      <td>fd78e8da277df7f6</td>\n",
              "      <td>train</td>\n",
              "      <td>https://farm7.staticflickr.com/6225/6374789629...</td>\n",
              "      <td>https://www.flickr.com/photos/franciscojgonzal...</td>\n",
              "      <td>https://creativecommons.org/licenses/by/2.0/</td>\n",
              "      <td>https://www.flickr.com/people/franciscojgonzalez/</td>\n",
              "      <td>Francisco Gonzalez</td>\n",
              "      <td>Tour Eiffel et Sacré Coeur au coucher du soleil</td>\n",
              "      <td>1977486</td>\n",
              "      <td>mc1AT1hGbd+WuYoOjPP30w==</td>\n",
              "      <td>https://c2.staticflickr.com/7/6225/6374789629_...</td>\n",
              "    </tr>\n",
              "    <tr>\n",
              "      <th>3</th>\n",
              "      <td>fb4e7c677293a9ad</td>\n",
              "      <td>train</td>\n",
              "      <td>https://c6.staticflickr.com/1/44/149484582_c93...</td>\n",
              "      <td>https://www.flickr.com/photos/pallo/149484582</td>\n",
              "      <td>https://creativecommons.org/licenses/by/2.0/</td>\n",
              "      <td>https://www.flickr.com/people/pallo/</td>\n",
              "      <td>PålLøberg</td>\n",
              "      <td>Big logo in the lobby</td>\n",
              "      <td>1357592</td>\n",
              "      <td>C5/m7r1MSAQvKKf+Oic+uw==</td>\n",
              "      <td>https://c3.staticflickr.com/1/44/149484582_c93...</td>\n",
              "    </tr>\n",
              "    <tr>\n",
              "      <th>4</th>\n",
              "      <td>c17a47bc70c6a5de</td>\n",
              "      <td>train</td>\n",
              "      <td>https://c7.staticflickr.com/2/1008/542976933_6...</td>\n",
              "      <td>https://www.flickr.com/photos/jmctee/542976933</td>\n",
              "      <td>https://creativecommons.org/licenses/by/2.0/</td>\n",
              "      <td>https://www.flickr.com/people/jmctee/</td>\n",
              "      <td>John McTarnaghan</td>\n",
              "      <td>Skyline Drive Va</td>\n",
              "      <td>918713</td>\n",
              "      <td>7Brm7waAdbwlp6QtxlTw1A==</td>\n",
              "      <td>https://c7.staticflickr.com/2/1008/542976933_4...</td>\n",
              "    </tr>\n",
              "    <tr>\n",
              "      <th>5</th>\n",
              "      <td>4d90078b55ed5353</td>\n",
              "      <td>train</td>\n",
              "      <td>https://farm4.staticflickr.com/7649/1684106346...</td>\n",
              "      <td>https://www.flickr.com/photos/shehal/16841063460</td>\n",
              "      <td>https://creativecommons.org/licenses/by/2.0/</td>\n",
              "      <td>https://www.flickr.com/people/shehal/</td>\n",
              "      <td>Shehal Joseph</td>\n",
              "      <td>weekend cooking project with @gayeshaw</td>\n",
              "      <td>65790</td>\n",
              "      <td>kky6flnktVCVKrR5qOVGlw==</td>\n",
              "      <td>https://c3.staticflickr.com/8/7649/16841063460...</td>\n",
              "    </tr>\n",
              "    <tr>\n",
              "      <th>6</th>\n",
              "      <td>b6926a434a945555</td>\n",
              "      <td>train</td>\n",
              "      <td>https://farm6.staticflickr.com/3830/9680643729...</td>\n",
              "      <td>https://www.flickr.com/photos/dumbledad/968064...</td>\n",
              "      <td>https://creativecommons.org/licenses/by/2.0/</td>\n",
              "      <td>https://www.flickr.com/people/dumbledad/</td>\n",
              "      <td>Tim Regan</td>\n",
              "      <td>Fiona Kitchman &amp; Sarah Morehead's altitude jac...</td>\n",
              "      <td>4465171</td>\n",
              "      <td>+VhDNUmh8WSas1X13dDi2g==</td>\n",
              "      <td>https://c5.staticflickr.com/4/3830/9680643729_...</td>\n",
              "    </tr>\n",
              "    <tr>\n",
              "      <th>7</th>\n",
              "      <td>93db5501a66e3abc</td>\n",
              "      <td>train</td>\n",
              "      <td>https://c5.staticflickr.com/9/8029/8044767268_...</td>\n",
              "      <td>https://www.flickr.com/photos/snowpeak/8044767268</td>\n",
              "      <td>https://creativecommons.org/licenses/by/2.0/</td>\n",
              "      <td>https://www.flickr.com/people/snowpeak/</td>\n",
              "      <td>John Fowler</td>\n",
              "      <td>The Ladigue twins</td>\n",
              "      <td>562585</td>\n",
              "      <td>4YvSKAs4D490DZQHeRlNgQ==</td>\n",
              "      <td>https://c5.staticflickr.com/9/8029/8044767268_...</td>\n",
              "    </tr>\n",
              "    <tr>\n",
              "      <th>8</th>\n",
              "      <td>670b7e0ab8321d3a</td>\n",
              "      <td>train</td>\n",
              "      <td>https://c3.staticflickr.com/9/8500/8373552555_...</td>\n",
              "      <td>https://www.flickr.com/photos/squirmy21/837355...</td>\n",
              "      <td>https://creativecommons.org/licenses/by/2.0/</td>\n",
              "      <td>https://www.flickr.com/people/squirmy21/</td>\n",
              "      <td>SquirmyBeluga</td>\n",
              "      <td>crystal ball</td>\n",
              "      <td>4515184</td>\n",
              "      <td>TBoHKXv25zgJM+/Cf15tYw==</td>\n",
              "      <td>https://c1.staticflickr.com/9/8500/8373552555_...</td>\n",
              "    </tr>\n",
              "    <tr>\n",
              "      <th>9</th>\n",
              "      <td>454df3b1588a8f3d</td>\n",
              "      <td>train</td>\n",
              "      <td>https://c6.staticflickr.com/7/6169/6174709881_...</td>\n",
              "      <td>https://www.flickr.com/photos/circulaseguro/61...</td>\n",
              "      <td>https://creativecommons.org/licenses/by/2.0/</td>\n",
              "      <td>https://www.flickr.com/people/circulaseguro/</td>\n",
              "      <td>Circula Seguro</td>\n",
              "      <td>Renault 4 en rotonda</td>\n",
              "      <td>296112</td>\n",
              "      <td>6GtZccSsKdUrkQX7i6RkPg==</td>\n",
              "      <td>https://c6.staticflickr.com/7/6169/6174709881_...</td>\n",
              "    </tr>\n",
              "    <tr>\n",
              "      <th>10</th>\n",
              "      <td>4d24d0aa86306712</td>\n",
              "      <td>train</td>\n",
              "      <td>https://farm3.staticflickr.com/3685/1948488649...</td>\n",
              "      <td>https://www.flickr.com/photos/sharadaprasad/19...</td>\n",
              "      <td>https://creativecommons.org/licenses/by/2.0/</td>\n",
              "      <td>https://www.flickr.com/people/sharadaprasad/</td>\n",
              "      <td>Sharada Prasad CS</td>\n",
              "      <td>_CSP1485</td>\n",
              "      <td>2279178</td>\n",
              "      <td>NLmUgNeRHLBOMWKFoyd/JA==</td>\n",
              "      <td>https://c8.staticflickr.com/4/3685/19484886498...</td>\n",
              "    </tr>\n",
              "  </tbody>\n",
              "</table>\n",
              "</div>"
            ],
            "text/plain": [
              "            image_id subset  \\\n",
              "0   8e352b4e13bb97cc  train   \n",
              "1   342cea1b9508e2e7  train   \n",
              "2   fd78e8da277df7f6  train   \n",
              "3   fb4e7c677293a9ad  train   \n",
              "4   c17a47bc70c6a5de  train   \n",
              "5   4d90078b55ed5353  train   \n",
              "6   b6926a434a945555  train   \n",
              "7   93db5501a66e3abc  train   \n",
              "8   670b7e0ab8321d3a  train   \n",
              "9   454df3b1588a8f3d  train   \n",
              "10  4d24d0aa86306712  train   \n",
              "\n",
              "                                         original_url  \\\n",
              "0   https://c5.staticflickr.com/8/7005/6843277839_...   \n",
              "1   https://farm8.staticflickr.com/2079/2513092437...   \n",
              "2   https://farm7.staticflickr.com/6225/6374789629...   \n",
              "3   https://c6.staticflickr.com/1/44/149484582_c93...   \n",
              "4   https://c7.staticflickr.com/2/1008/542976933_6...   \n",
              "5   https://farm4.staticflickr.com/7649/1684106346...   \n",
              "6   https://farm6.staticflickr.com/3830/9680643729...   \n",
              "7   https://c5.staticflickr.com/9/8029/8044767268_...   \n",
              "8   https://c3.staticflickr.com/9/8500/8373552555_...   \n",
              "9   https://c6.staticflickr.com/7/6169/6174709881_...   \n",
              "10  https://farm3.staticflickr.com/3685/1948488649...   \n",
              "\n",
              "                                 original_landing_url  \\\n",
              "0   https://www.flickr.com/photos/jodastephen/6843...   \n",
              "1     https://www.flickr.com/photos/jrover/2513092437   \n",
              "2   https://www.flickr.com/photos/franciscojgonzal...   \n",
              "3       https://www.flickr.com/photos/pallo/149484582   \n",
              "4      https://www.flickr.com/photos/jmctee/542976933   \n",
              "5    https://www.flickr.com/photos/shehal/16841063460   \n",
              "6   https://www.flickr.com/photos/dumbledad/968064...   \n",
              "7   https://www.flickr.com/photos/snowpeak/8044767268   \n",
              "8   https://www.flickr.com/photos/squirmy21/837355...   \n",
              "9   https://www.flickr.com/photos/circulaseguro/61...   \n",
              "10  https://www.flickr.com/photos/sharadaprasad/19...   \n",
              "\n",
              "                                         license  \\\n",
              "0   https://creativecommons.org/licenses/by/2.0/   \n",
              "1   https://creativecommons.org/licenses/by/2.0/   \n",
              "2   https://creativecommons.org/licenses/by/2.0/   \n",
              "3   https://creativecommons.org/licenses/by/2.0/   \n",
              "4   https://creativecommons.org/licenses/by/2.0/   \n",
              "5   https://creativecommons.org/licenses/by/2.0/   \n",
              "6   https://creativecommons.org/licenses/by/2.0/   \n",
              "7   https://creativecommons.org/licenses/by/2.0/   \n",
              "8   https://creativecommons.org/licenses/by/2.0/   \n",
              "9   https://creativecommons.org/licenses/by/2.0/   \n",
              "10  https://creativecommons.org/licenses/by/2.0/   \n",
              "\n",
              "                                   author_profile_url              author  \\\n",
              "0          https://www.flickr.com/people/jodastephen/  Stephen Colebourne   \n",
              "1               https://www.flickr.com/people/jrover/        Jeremy Rover   \n",
              "2   https://www.flickr.com/people/franciscojgonzalez/  Francisco Gonzalez   \n",
              "3                https://www.flickr.com/people/pallo/           PålLøberg   \n",
              "4               https://www.flickr.com/people/jmctee/    John McTarnaghan   \n",
              "5               https://www.flickr.com/people/shehal/       Shehal Joseph   \n",
              "6            https://www.flickr.com/people/dumbledad/           Tim Regan   \n",
              "7             https://www.flickr.com/people/snowpeak/         John Fowler   \n",
              "8            https://www.flickr.com/people/squirmy21/       SquirmyBeluga   \n",
              "9        https://www.flickr.com/people/circulaseguro/      Circula Seguro   \n",
              "10       https://www.flickr.com/people/sharadaprasad/   Sharada Prasad CS   \n",
              "\n",
              "                                                title  original_size  \\\n",
              "0                                              Venice        2549790   \n",
              "1                                   Diving the Canyon         312222   \n",
              "2     Tour Eiffel et Sacré Coeur au coucher du soleil        1977486   \n",
              "3                               Big logo in the lobby        1357592   \n",
              "4                                    Skyline Drive Va         918713   \n",
              "5              weekend cooking project with @gayeshaw          65790   \n",
              "6   Fiona Kitchman & Sarah Morehead's altitude jac...        4465171   \n",
              "7                                   The Ladigue twins         562585   \n",
              "8                                        crystal ball        4515184   \n",
              "9                                Renault 4 en rotonda         296112   \n",
              "10                                           _CSP1485        2279178   \n",
              "\n",
              "                original_md5  \\\n",
              "0   rg6jFPICH0lzwJa+TBb7Jw==   \n",
              "1   fp9BMt4meO6XXJCunh6yeA==   \n",
              "2   mc1AT1hGbd+WuYoOjPP30w==   \n",
              "3   C5/m7r1MSAQvKKf+Oic+uw==   \n",
              "4   7Brm7waAdbwlp6QtxlTw1A==   \n",
              "5   kky6flnktVCVKrR5qOVGlw==   \n",
              "6   +VhDNUmh8WSas1X13dDi2g==   \n",
              "7   4YvSKAs4D490DZQHeRlNgQ==   \n",
              "8   TBoHKXv25zgJM+/Cf15tYw==   \n",
              "9   6GtZccSsKdUrkQX7i6RkPg==   \n",
              "10  NLmUgNeRHLBOMWKFoyd/JA==   \n",
              "\n",
              "                                   thumbnail_300k_url  \n",
              "0   https://c2.staticflickr.com/8/7005/6843277839_...  \n",
              "1   https://c3.staticflickr.com/3/2079/2513092437_...  \n",
              "2   https://c2.staticflickr.com/7/6225/6374789629_...  \n",
              "3   https://c3.staticflickr.com/1/44/149484582_c93...  \n",
              "4   https://c7.staticflickr.com/2/1008/542976933_4...  \n",
              "5   https://c3.staticflickr.com/8/7649/16841063460...  \n",
              "6   https://c5.staticflickr.com/4/3830/9680643729_...  \n",
              "7   https://c5.staticflickr.com/9/8029/8044767268_...  \n",
              "8   https://c1.staticflickr.com/9/8500/8373552555_...  \n",
              "9   https://c6.staticflickr.com/7/6169/6174709881_...  \n",
              "10  https://c8.staticflickr.com/4/3685/19484886498...  "
            ]
          },
          "metadata": {
            "tags": []
          },
          "execution_count": 11
        }
      ]
    },
    {
      "metadata": {
        "id": "M1LF-1OniPE1",
        "colab_type": "text"
      },
      "cell_type": "markdown",
      "source": [
        "# Invoke Cloud Vision API"
      ]
    },
    {
      "metadata": {
        "id": "bkDkqecRtok8",
        "colab_type": "code",
        "colab": {
          "base_uri": "https://localhost:8080/",
          "height": 371
        },
        "outputId": "e73aa66c-c84e-475e-f8d7-ab1af454e182"
      },
      "cell_type": "code",
      "source": [
        "#demo image-this one's for all the hypebeasts out there!\n",
        "#helpful link: https://stackoverflow.com/questions/32370281/how-to-include-image-or-picture-in-jupyter-notebook\n",
        "Image(url= \"https://www.purseblog.com/images/2017/01/Louis-Vuitton-Supreme-Bags-Fall-2017-5.jpg\", width=500, height=350)"
      ],
      "execution_count": 12,
      "outputs": [
        {
          "output_type": "execute_result",
          "data": {
            "text/html": [
              "<img src=\"https://www.purseblog.com/images/2017/01/Louis-Vuitton-Supreme-Bags-Fall-2017-5.jpg\" width=\"500\" height=\"350\"/>"
            ],
            "text/plain": [
              "<IPython.core.display.Image object>"
            ]
          },
          "metadata": {
            "tags": []
          },
          "execution_count": 12
        }
      ]
    },
    {
      "metadata": {
        "id": "0k9MEJbanU27",
        "colab_type": "code",
        "colab": {}
      },
      "cell_type": "code",
      "source": [
        "#Define function to run label detection based on image url\n",
        "#Encodes image as ASCII text based on base64 module\n",
        "#displays 5 labels\n",
        "def label_detection_example(url): \n",
        "  vservice = build('vision', 'v1', developerKey=APIKEY)\n",
        "  request = vservice.images().annotate(body={\n",
        "          'requests': [{\n",
        "                  'image': {\n",
        "                      'source': {\n",
        "                          'image_uri': url\n",
        "                      }\n",
        "                  },\n",
        "                  'features': [{\n",
        "                      'type': 'LABEL_DETECTION', #replace with LOGO_DETECTION,FACE_DETECTION, etc.\n",
        "                      'maxResults': 5,\n",
        "                  }]\n",
        "              }],\n",
        "          })\n",
        "  responses = request.execute(num_retries=3)\n",
        "  return responses"
      ],
      "execution_count": 0,
      "outputs": []
    },
    {
      "metadata": {
        "id": "eZ9BXZmSYBOd",
        "colab_type": "code",
        "colab": {
          "base_uri": "https://localhost:8080/",
          "height": 357
        },
        "outputId": "808c3f56-4411-488b-86cf-54a91e6618a7"
      },
      "cell_type": "code",
      "source": [
        "#display list of image labels with newly built function\n",
        "#term definitions: https://cloud.google.com/vision/docs/reference/rest/v1/images/annotate\n",
        "\n",
        "IMAGE=\"https://www.purseblog.com/images/2017/01/Louis-Vuitton-Supreme-Bags-Fall-2017-5.jpg\"\n",
        "\n",
        "label_detection_example(IMAGE)"
      ],
      "execution_count": 14,
      "outputs": [
        {
          "output_type": "execute_result",
          "data": {
            "text/plain": [
              "{u'responses': [{u'labelAnnotations': [{u'description': u'red',\n",
              "     u'mid': u'/m/06fvc',\n",
              "     u'score': 0.974761,\n",
              "     u'topicality': 0.974761},\n",
              "    {u'description': u'handbag',\n",
              "     u'mid': u'/m/080hkjn',\n",
              "     u'score': 0.96870184,\n",
              "     u'topicality': 0.96870184},\n",
              "    {u'description': u'bag',\n",
              "     u'mid': u'/m/0n5v01m',\n",
              "     u'score': 0.95867664,\n",
              "     u'topicality': 0.95867664},\n",
              "    {u'description': u'product',\n",
              "     u'mid': u'/m/02n3pb',\n",
              "     u'score': 0.9035368,\n",
              "     u'topicality': 0.9035368},\n",
              "    {u'description': u'fashion accessory',\n",
              "     u'mid': u'/m/0463sg',\n",
              "     u'score': 0.8855615,\n",
              "     u'topicality': 0.8855615}]}]}"
            ]
          },
          "metadata": {
            "tags": []
          },
          "execution_count": 14
        }
      ]
    },
    {
      "metadata": {
        "id": "u6HUWD7tj8WQ",
        "colab_type": "text"
      },
      "cell_type": "markdown",
      "source": [
        "# Image Labeling Function"
      ]
    },
    {
      "metadata": {
        "id": "2LLUIfqrXVR3",
        "colab_type": "code",
        "colab": {}
      },
      "cell_type": "code",
      "source": [
        "#Define function to run label detection based on table containing image urls\n",
        "#Encodes image as ASCII text based on base64 module\n",
        "#prints the plain English responses along with confidence scores\n",
        "#helpful link: https://stackoverflow.com/questions/25261434/how-to-print-multiple-items-from-dictionary\n",
        "\n",
        "#empty list to store labels and scores\n",
        "list=''\n",
        "\n",
        "def label_detection(url): \n",
        "  vservice = build('vision', 'v1', developerKey=APIKEY)\n",
        "  request = vservice.images().annotate(body={\n",
        "          'requests': [{\n",
        "                  'image': {\n",
        "                      'source': {\n",
        "                          'image_uri': url\n",
        "                      }\n",
        "                  },\n",
        "                  'features': [{\n",
        "                      'type': 'LABEL_DETECTION',\n",
        "                      'maxResults': 5,\n",
        "                  }]\n",
        "              }],\n",
        "          })\n",
        "  responses = request.execute(num_retries=3)\n",
        "  list=''\n",
        "  for x in range(len(responses['responses'][0]['labelAnnotations'])):\n",
        "    list=list+responses['responses'][0]['labelAnnotations'][x]['description']+'('+str(responses['responses'][0]['labelAnnotations'][x]['score'])+')'+'|'\n",
        "    \n",
        "  return list[:-1]"
      ],
      "execution_count": 0,
      "outputs": []
    },
    {
      "metadata": {
        "id": "Pv4FjlS4AD0B",
        "colab_type": "code",
        "colab": {
          "base_uri": "https://localhost:8080/",
          "height": 34
        },
        "outputId": "4e2f57cf-0152-46ba-8580-8fd1e1b3084a"
      },
      "cell_type": "code",
      "source": [
        "#test label detection function\n",
        "label_detection('https://www.purseblog.com/images/2017/01/Louis-Vuitton-Supreme-Bags-Fall-2017-5.jpg')"
      ],
      "execution_count": 16,
      "outputs": [
        {
          "output_type": "execute_result",
          "data": {
            "text/plain": [
              "u'red(0.974761)|handbag(0.968702)|bag(0.9586767)|product(0.9035368)|fashion accessory(0.88556147)'"
            ]
          },
          "metadata": {
            "tags": []
          },
          "execution_count": 16
        }
      ]
    },
    {
      "metadata": {
        "id": "sEZ20-6KBCLJ",
        "colab_type": "code",
        "colab": {}
      },
      "cell_type": "code",
      "source": [
        "#apply to go through the sample images and put into dataframe\n",
        "df['ImageLabel'] = df['original_url'].apply(label_detection)"
      ],
      "execution_count": 0,
      "outputs": []
    },
    {
      "metadata": {
        "id": "VX9KW-W3dYFt",
        "colab_type": "code",
        "colab": {
          "base_uri": "https://localhost:8080/",
          "height": 221
        },
        "outputId": "529a6241-746a-4044-c851-f20ca5d11e03"
      },
      "cell_type": "code",
      "source": [
        "#check the dataframe to ensure the labels are in the new column\n",
        "df['ImageLabel']"
      ],
      "execution_count": 18,
      "outputs": [
        {
          "output_type": "execute_result",
          "data": {
            "text/plain": [
              "0     waterway(0.9653903)|property(0.9045235)|neighb...\n",
              "1     scuba diving(0.9854413)|underwater diving(0.98...\n",
              "2     sky(0.9858208)|afterglow(0.9636433)|dawn(0.952...\n",
              "3                           interior design(0.65215605)\n",
              "4     sky(0.962839)|grassland(0.92956024)|mountainou...\n",
              "5     dessert(0.763286)|biscuit(0.70349556)|baked go...\n",
              "6     fur(0.79217327)|shoe(0.71800923)|plush(0.53875...\n",
              "7     rock(0.8242284)|adventure(0.69788873)|geology(...\n",
              "8                                  organism(0.64027643)\n",
              "9     car(0.97778934)|road(0.9350879)|residential ar...\n",
              "10    white(0.9623204)|photograph(0.9575152)|black(0...\n",
              "Name: ImageLabel, dtype: object"
            ]
          },
          "metadata": {
            "tags": []
          },
          "execution_count": 18
        }
      ]
    },
    {
      "metadata": {
        "id": "V_KGDHhvkTwz",
        "colab_type": "text"
      },
      "cell_type": "markdown",
      "source": [
        "# Invoke Cloud Translate API"
      ]
    },
    {
      "metadata": {
        "id": "alpt3yzIEkHK",
        "colab_type": "code",
        "colab": {}
      },
      "cell_type": "code",
      "source": [
        "# running Translate API\n",
        "def label_detection_foreign(x):\n",
        "  service = build('translate', 'v2', developerKey=APIKEY)\n",
        "\n",
        "  #language parameters\n",
        "  original_lang='en'\n",
        "  foreign_lang='es'\n",
        "\n",
        "  # use the service\n",
        "  # Loops through all the rows within the respective column\n",
        "  # print outputs\n",
        "  inputs = x\n",
        "  outputs = service.translations().list(source=original_lang, target=foreign_lang, q=inputs).execute()\n",
        "  for input, output in zip(inputs, outputs['translations']):\n",
        "    return output['translatedText']"
      ],
      "execution_count": 0,
      "outputs": []
    },
    {
      "metadata": {
        "id": "lY_VIyGhx3ev",
        "colab_type": "code",
        "colab": {
          "base_uri": "https://localhost:8080/",
          "height": 34
        },
        "outputId": "4b9ecb09-30ee-4cae-9463-1507728c7488"
      },
      "cell_type": "code",
      "source": [
        "#display an example, some words will appear more clearly when exported to BigQuery\n",
        "label_detection_foreign(df['ImageLabel'][0])"
      ],
      "execution_count": 20,
      "outputs": [
        {
          "output_type": "execute_result",
          "data": {
            "text/plain": [
              "u'v\\xeda fluvial (0.9653903) | propiedad (0.9045235) | vecindario (0.8928297) | ciudad (0.890791) | canal (0.8344499)'"
            ]
          },
          "metadata": {
            "tags": []
          },
          "execution_count": 20
        }
      ]
    },
    {
      "metadata": {
        "id": "DQdtUgl1TdPG",
        "colab_type": "code",
        "colab": {
          "base_uri": "https://localhost:8080/",
          "height": 221
        },
        "outputId": "56686622-4608-44cc-be35-7b96a4a3b6af"
      },
      "cell_type": "code",
      "source": [
        "#apply function to all values in English-labeled column\n",
        "df['ImageLabel_Translated'] = df['ImageLabel'].apply(label_detection_foreign)\n",
        "\n",
        "df['ImageLabel_Translated'] "
      ],
      "execution_count": 21,
      "outputs": [
        {
          "output_type": "execute_result",
          "data": {
            "text/plain": [
              "0     vía fluvial (0.9653903) | propiedad (0.9045235...\n",
              "1     submarinismo (0.9854413) buceo submarino (0.98...\n",
              "2     sky (0.9858208) | afterglow (0.9636433) | aman...\n",
              "3                     diseño de interiores (0.65215605)\n",
              "4     cielo (0.962839) | pradera (0.92956024) | acci...\n",
              "5     postre (0.763286) | galleta (0.70349556) | pro...\n",
              "6     piel (0.79217327) | zapato (0.71800923) | pelu...\n",
              "7     rock (0.8242284) | aventura (0.69788873) | geo...\n",
              "8                                organismo (0.64027643)\n",
              "9     automóvil (0.97778934) | camino (0.9350879) | ...\n",
              "10    blanco (0.9623204) | fotografía (0.9575152) | ...\n",
              "Name: ImageLabel_Translated, dtype: object"
            ]
          },
          "metadata": {
            "tags": []
          },
          "execution_count": 21
        }
      ]
    },
    {
      "metadata": {
        "id": "cIqSoWs3kis5",
        "colab_type": "text"
      },
      "cell_type": "markdown",
      "source": [
        "# Finals Results\n",
        "\n",
        "\n",
        "\n",
        "*   Preview final table with English and Spanish image labels with confidence scores\n",
        "*   Export to BigQuery\n",
        "\n"
      ]
    },
    {
      "metadata": {
        "id": "KtabV9eGTnfW",
        "colab_type": "code",
        "colab": {
          "base_uri": "https://localhost:8080/",
          "height": 767
        },
        "outputId": "b613aba6-bbb9-443a-dfda-c28cace026e5"
      },
      "cell_type": "code",
      "source": [
        "#show final dataframe\n",
        "df"
      ],
      "execution_count": 22,
      "outputs": [
        {
          "output_type": "execute_result",
          "data": {
            "text/html": [
              "<div>\n",
              "<style scoped>\n",
              "    .dataframe tbody tr th:only-of-type {\n",
              "        vertical-align: middle;\n",
              "    }\n",
              "\n",
              "    .dataframe tbody tr th {\n",
              "        vertical-align: top;\n",
              "    }\n",
              "\n",
              "    .dataframe thead th {\n",
              "        text-align: right;\n",
              "    }\n",
              "</style>\n",
              "<table border=\"1\" class=\"dataframe\">\n",
              "  <thead>\n",
              "    <tr style=\"text-align: right;\">\n",
              "      <th></th>\n",
              "      <th>image_id</th>\n",
              "      <th>subset</th>\n",
              "      <th>original_url</th>\n",
              "      <th>original_landing_url</th>\n",
              "      <th>license</th>\n",
              "      <th>author_profile_url</th>\n",
              "      <th>author</th>\n",
              "      <th>title</th>\n",
              "      <th>original_size</th>\n",
              "      <th>original_md5</th>\n",
              "      <th>thumbnail_300k_url</th>\n",
              "      <th>ImageLabel</th>\n",
              "      <th>ImageLabel_Translated</th>\n",
              "    </tr>\n",
              "  </thead>\n",
              "  <tbody>\n",
              "    <tr>\n",
              "      <th>0</th>\n",
              "      <td>8e352b4e13bb97cc</td>\n",
              "      <td>train</td>\n",
              "      <td>https://c5.staticflickr.com/8/7005/6843277839_...</td>\n",
              "      <td>https://www.flickr.com/photos/jodastephen/6843...</td>\n",
              "      <td>https://creativecommons.org/licenses/by/2.0/</td>\n",
              "      <td>https://www.flickr.com/people/jodastephen/</td>\n",
              "      <td>Stephen Colebourne</td>\n",
              "      <td>Venice</td>\n",
              "      <td>2549790</td>\n",
              "      <td>rg6jFPICH0lzwJa+TBb7Jw==</td>\n",
              "      <td>https://c2.staticflickr.com/8/7005/6843277839_...</td>\n",
              "      <td>waterway(0.9653903)|property(0.9045235)|neighb...</td>\n",
              "      <td>vía fluvial (0.9653903) | propiedad (0.9045235...</td>\n",
              "    </tr>\n",
              "    <tr>\n",
              "      <th>1</th>\n",
              "      <td>342cea1b9508e2e7</td>\n",
              "      <td>train</td>\n",
              "      <td>https://farm8.staticflickr.com/2079/2513092437...</td>\n",
              "      <td>https://www.flickr.com/photos/jrover/2513092437</td>\n",
              "      <td>https://creativecommons.org/licenses/by/2.0/</td>\n",
              "      <td>https://www.flickr.com/people/jrover/</td>\n",
              "      <td>Jeremy Rover</td>\n",
              "      <td>Diving the Canyon</td>\n",
              "      <td>312222</td>\n",
              "      <td>fp9BMt4meO6XXJCunh6yeA==</td>\n",
              "      <td>https://c3.staticflickr.com/3/2079/2513092437_...</td>\n",
              "      <td>scuba diving(0.9854413)|underwater diving(0.98...</td>\n",
              "      <td>submarinismo (0.9854413) buceo submarino (0.98...</td>\n",
              "    </tr>\n",
              "    <tr>\n",
              "      <th>2</th>\n",
              "      <td>fd78e8da277df7f6</td>\n",
              "      <td>train</td>\n",
              "      <td>https://farm7.staticflickr.com/6225/6374789629...</td>\n",
              "      <td>https://www.flickr.com/photos/franciscojgonzal...</td>\n",
              "      <td>https://creativecommons.org/licenses/by/2.0/</td>\n",
              "      <td>https://www.flickr.com/people/franciscojgonzalez/</td>\n",
              "      <td>Francisco Gonzalez</td>\n",
              "      <td>Tour Eiffel et Sacré Coeur au coucher du soleil</td>\n",
              "      <td>1977486</td>\n",
              "      <td>mc1AT1hGbd+WuYoOjPP30w==</td>\n",
              "      <td>https://c2.staticflickr.com/7/6225/6374789629_...</td>\n",
              "      <td>sky(0.9858208)|afterglow(0.9636433)|dawn(0.952...</td>\n",
              "      <td>sky (0.9858208) | afterglow (0.9636433) | aman...</td>\n",
              "    </tr>\n",
              "    <tr>\n",
              "      <th>3</th>\n",
              "      <td>fb4e7c677293a9ad</td>\n",
              "      <td>train</td>\n",
              "      <td>https://c6.staticflickr.com/1/44/149484582_c93...</td>\n",
              "      <td>https://www.flickr.com/photos/pallo/149484582</td>\n",
              "      <td>https://creativecommons.org/licenses/by/2.0/</td>\n",
              "      <td>https://www.flickr.com/people/pallo/</td>\n",
              "      <td>PålLøberg</td>\n",
              "      <td>Big logo in the lobby</td>\n",
              "      <td>1357592</td>\n",
              "      <td>C5/m7r1MSAQvKKf+Oic+uw==</td>\n",
              "      <td>https://c3.staticflickr.com/1/44/149484582_c93...</td>\n",
              "      <td>interior design(0.65215605)</td>\n",
              "      <td>diseño de interiores (0.65215605)</td>\n",
              "    </tr>\n",
              "    <tr>\n",
              "      <th>4</th>\n",
              "      <td>c17a47bc70c6a5de</td>\n",
              "      <td>train</td>\n",
              "      <td>https://c7.staticflickr.com/2/1008/542976933_6...</td>\n",
              "      <td>https://www.flickr.com/photos/jmctee/542976933</td>\n",
              "      <td>https://creativecommons.org/licenses/by/2.0/</td>\n",
              "      <td>https://www.flickr.com/people/jmctee/</td>\n",
              "      <td>John McTarnaghan</td>\n",
              "      <td>Skyline Drive Va</td>\n",
              "      <td>918713</td>\n",
              "      <td>7Brm7waAdbwlp6QtxlTw1A==</td>\n",
              "      <td>https://c7.staticflickr.com/2/1008/542976933_4...</td>\n",
              "      <td>sky(0.962839)|grassland(0.92956024)|mountainou...</td>\n",
              "      <td>cielo (0.962839) | pradera (0.92956024) | acci...</td>\n",
              "    </tr>\n",
              "    <tr>\n",
              "      <th>5</th>\n",
              "      <td>4d90078b55ed5353</td>\n",
              "      <td>train</td>\n",
              "      <td>https://farm4.staticflickr.com/7649/1684106346...</td>\n",
              "      <td>https://www.flickr.com/photos/shehal/16841063460</td>\n",
              "      <td>https://creativecommons.org/licenses/by/2.0/</td>\n",
              "      <td>https://www.flickr.com/people/shehal/</td>\n",
              "      <td>Shehal Joseph</td>\n",
              "      <td>weekend cooking project with @gayeshaw</td>\n",
              "      <td>65790</td>\n",
              "      <td>kky6flnktVCVKrR5qOVGlw==</td>\n",
              "      <td>https://c3.staticflickr.com/8/7649/16841063460...</td>\n",
              "      <td>dessert(0.763286)|biscuit(0.70349556)|baked go...</td>\n",
              "      <td>postre (0.763286) | galleta (0.70349556) | pro...</td>\n",
              "    </tr>\n",
              "    <tr>\n",
              "      <th>6</th>\n",
              "      <td>b6926a434a945555</td>\n",
              "      <td>train</td>\n",
              "      <td>https://farm6.staticflickr.com/3830/9680643729...</td>\n",
              "      <td>https://www.flickr.com/photos/dumbledad/968064...</td>\n",
              "      <td>https://creativecommons.org/licenses/by/2.0/</td>\n",
              "      <td>https://www.flickr.com/people/dumbledad/</td>\n",
              "      <td>Tim Regan</td>\n",
              "      <td>Fiona Kitchman &amp; Sarah Morehead's altitude jac...</td>\n",
              "      <td>4465171</td>\n",
              "      <td>+VhDNUmh8WSas1X13dDi2g==</td>\n",
              "      <td>https://c5.staticflickr.com/4/3830/9680643729_...</td>\n",
              "      <td>fur(0.79217327)|shoe(0.71800923)|plush(0.53875...</td>\n",
              "      <td>piel (0.79217327) | zapato (0.71800923) | pelu...</td>\n",
              "    </tr>\n",
              "    <tr>\n",
              "      <th>7</th>\n",
              "      <td>93db5501a66e3abc</td>\n",
              "      <td>train</td>\n",
              "      <td>https://c5.staticflickr.com/9/8029/8044767268_...</td>\n",
              "      <td>https://www.flickr.com/photos/snowpeak/8044767268</td>\n",
              "      <td>https://creativecommons.org/licenses/by/2.0/</td>\n",
              "      <td>https://www.flickr.com/people/snowpeak/</td>\n",
              "      <td>John Fowler</td>\n",
              "      <td>The Ladigue twins</td>\n",
              "      <td>562585</td>\n",
              "      <td>4YvSKAs4D490DZQHeRlNgQ==</td>\n",
              "      <td>https://c5.staticflickr.com/9/8029/8044767268_...</td>\n",
              "      <td>rock(0.8242284)|adventure(0.69788873)|geology(...</td>\n",
              "      <td>rock (0.8242284) | aventura (0.69788873) | geo...</td>\n",
              "    </tr>\n",
              "    <tr>\n",
              "      <th>8</th>\n",
              "      <td>670b7e0ab8321d3a</td>\n",
              "      <td>train</td>\n",
              "      <td>https://c3.staticflickr.com/9/8500/8373552555_...</td>\n",
              "      <td>https://www.flickr.com/photos/squirmy21/837355...</td>\n",
              "      <td>https://creativecommons.org/licenses/by/2.0/</td>\n",
              "      <td>https://www.flickr.com/people/squirmy21/</td>\n",
              "      <td>SquirmyBeluga</td>\n",
              "      <td>crystal ball</td>\n",
              "      <td>4515184</td>\n",
              "      <td>TBoHKXv25zgJM+/Cf15tYw==</td>\n",
              "      <td>https://c1.staticflickr.com/9/8500/8373552555_...</td>\n",
              "      <td>organism(0.64027643)</td>\n",
              "      <td>organismo (0.64027643)</td>\n",
              "    </tr>\n",
              "    <tr>\n",
              "      <th>9</th>\n",
              "      <td>454df3b1588a8f3d</td>\n",
              "      <td>train</td>\n",
              "      <td>https://c6.staticflickr.com/7/6169/6174709881_...</td>\n",
              "      <td>https://www.flickr.com/photos/circulaseguro/61...</td>\n",
              "      <td>https://creativecommons.org/licenses/by/2.0/</td>\n",
              "      <td>https://www.flickr.com/people/circulaseguro/</td>\n",
              "      <td>Circula Seguro</td>\n",
              "      <td>Renault 4 en rotonda</td>\n",
              "      <td>296112</td>\n",
              "      <td>6GtZccSsKdUrkQX7i6RkPg==</td>\n",
              "      <td>https://c6.staticflickr.com/7/6169/6174709881_...</td>\n",
              "      <td>car(0.97778934)|road(0.9350879)|residential ar...</td>\n",
              "      <td>automóvil (0.97778934) | camino (0.9350879) | ...</td>\n",
              "    </tr>\n",
              "    <tr>\n",
              "      <th>10</th>\n",
              "      <td>4d24d0aa86306712</td>\n",
              "      <td>train</td>\n",
              "      <td>https://farm3.staticflickr.com/3685/1948488649...</td>\n",
              "      <td>https://www.flickr.com/photos/sharadaprasad/19...</td>\n",
              "      <td>https://creativecommons.org/licenses/by/2.0/</td>\n",
              "      <td>https://www.flickr.com/people/sharadaprasad/</td>\n",
              "      <td>Sharada Prasad CS</td>\n",
              "      <td>_CSP1485</td>\n",
              "      <td>2279178</td>\n",
              "      <td>NLmUgNeRHLBOMWKFoyd/JA==</td>\n",
              "      <td>https://c8.staticflickr.com/4/3685/19484886498...</td>\n",
              "      <td>white(0.9623204)|photograph(0.9575152)|black(0...</td>\n",
              "      <td>blanco (0.9623204) | fotografía (0.9575152) | ...</td>\n",
              "    </tr>\n",
              "  </tbody>\n",
              "</table>\n",
              "</div>"
            ],
            "text/plain": [
              "            image_id subset  \\\n",
              "0   8e352b4e13bb97cc  train   \n",
              "1   342cea1b9508e2e7  train   \n",
              "2   fd78e8da277df7f6  train   \n",
              "3   fb4e7c677293a9ad  train   \n",
              "4   c17a47bc70c6a5de  train   \n",
              "5   4d90078b55ed5353  train   \n",
              "6   b6926a434a945555  train   \n",
              "7   93db5501a66e3abc  train   \n",
              "8   670b7e0ab8321d3a  train   \n",
              "9   454df3b1588a8f3d  train   \n",
              "10  4d24d0aa86306712  train   \n",
              "\n",
              "                                         original_url  \\\n",
              "0   https://c5.staticflickr.com/8/7005/6843277839_...   \n",
              "1   https://farm8.staticflickr.com/2079/2513092437...   \n",
              "2   https://farm7.staticflickr.com/6225/6374789629...   \n",
              "3   https://c6.staticflickr.com/1/44/149484582_c93...   \n",
              "4   https://c7.staticflickr.com/2/1008/542976933_6...   \n",
              "5   https://farm4.staticflickr.com/7649/1684106346...   \n",
              "6   https://farm6.staticflickr.com/3830/9680643729...   \n",
              "7   https://c5.staticflickr.com/9/8029/8044767268_...   \n",
              "8   https://c3.staticflickr.com/9/8500/8373552555_...   \n",
              "9   https://c6.staticflickr.com/7/6169/6174709881_...   \n",
              "10  https://farm3.staticflickr.com/3685/1948488649...   \n",
              "\n",
              "                                 original_landing_url  \\\n",
              "0   https://www.flickr.com/photos/jodastephen/6843...   \n",
              "1     https://www.flickr.com/photos/jrover/2513092437   \n",
              "2   https://www.flickr.com/photos/franciscojgonzal...   \n",
              "3       https://www.flickr.com/photos/pallo/149484582   \n",
              "4      https://www.flickr.com/photos/jmctee/542976933   \n",
              "5    https://www.flickr.com/photos/shehal/16841063460   \n",
              "6   https://www.flickr.com/photos/dumbledad/968064...   \n",
              "7   https://www.flickr.com/photos/snowpeak/8044767268   \n",
              "8   https://www.flickr.com/photos/squirmy21/837355...   \n",
              "9   https://www.flickr.com/photos/circulaseguro/61...   \n",
              "10  https://www.flickr.com/photos/sharadaprasad/19...   \n",
              "\n",
              "                                         license  \\\n",
              "0   https://creativecommons.org/licenses/by/2.0/   \n",
              "1   https://creativecommons.org/licenses/by/2.0/   \n",
              "2   https://creativecommons.org/licenses/by/2.0/   \n",
              "3   https://creativecommons.org/licenses/by/2.0/   \n",
              "4   https://creativecommons.org/licenses/by/2.0/   \n",
              "5   https://creativecommons.org/licenses/by/2.0/   \n",
              "6   https://creativecommons.org/licenses/by/2.0/   \n",
              "7   https://creativecommons.org/licenses/by/2.0/   \n",
              "8   https://creativecommons.org/licenses/by/2.0/   \n",
              "9   https://creativecommons.org/licenses/by/2.0/   \n",
              "10  https://creativecommons.org/licenses/by/2.0/   \n",
              "\n",
              "                                   author_profile_url              author  \\\n",
              "0          https://www.flickr.com/people/jodastephen/  Stephen Colebourne   \n",
              "1               https://www.flickr.com/people/jrover/        Jeremy Rover   \n",
              "2   https://www.flickr.com/people/franciscojgonzalez/  Francisco Gonzalez   \n",
              "3                https://www.flickr.com/people/pallo/           PålLøberg   \n",
              "4               https://www.flickr.com/people/jmctee/    John McTarnaghan   \n",
              "5               https://www.flickr.com/people/shehal/       Shehal Joseph   \n",
              "6            https://www.flickr.com/people/dumbledad/           Tim Regan   \n",
              "7             https://www.flickr.com/people/snowpeak/         John Fowler   \n",
              "8            https://www.flickr.com/people/squirmy21/       SquirmyBeluga   \n",
              "9        https://www.flickr.com/people/circulaseguro/      Circula Seguro   \n",
              "10       https://www.flickr.com/people/sharadaprasad/   Sharada Prasad CS   \n",
              "\n",
              "                                                title  original_size  \\\n",
              "0                                              Venice        2549790   \n",
              "1                                   Diving the Canyon         312222   \n",
              "2     Tour Eiffel et Sacré Coeur au coucher du soleil        1977486   \n",
              "3                               Big logo in the lobby        1357592   \n",
              "4                                    Skyline Drive Va         918713   \n",
              "5              weekend cooking project with @gayeshaw          65790   \n",
              "6   Fiona Kitchman & Sarah Morehead's altitude jac...        4465171   \n",
              "7                                   The Ladigue twins         562585   \n",
              "8                                        crystal ball        4515184   \n",
              "9                                Renault 4 en rotonda         296112   \n",
              "10                                           _CSP1485        2279178   \n",
              "\n",
              "                original_md5  \\\n",
              "0   rg6jFPICH0lzwJa+TBb7Jw==   \n",
              "1   fp9BMt4meO6XXJCunh6yeA==   \n",
              "2   mc1AT1hGbd+WuYoOjPP30w==   \n",
              "3   C5/m7r1MSAQvKKf+Oic+uw==   \n",
              "4   7Brm7waAdbwlp6QtxlTw1A==   \n",
              "5   kky6flnktVCVKrR5qOVGlw==   \n",
              "6   +VhDNUmh8WSas1X13dDi2g==   \n",
              "7   4YvSKAs4D490DZQHeRlNgQ==   \n",
              "8   TBoHKXv25zgJM+/Cf15tYw==   \n",
              "9   6GtZccSsKdUrkQX7i6RkPg==   \n",
              "10  NLmUgNeRHLBOMWKFoyd/JA==   \n",
              "\n",
              "                                   thumbnail_300k_url  \\\n",
              "0   https://c2.staticflickr.com/8/7005/6843277839_...   \n",
              "1   https://c3.staticflickr.com/3/2079/2513092437_...   \n",
              "2   https://c2.staticflickr.com/7/6225/6374789629_...   \n",
              "3   https://c3.staticflickr.com/1/44/149484582_c93...   \n",
              "4   https://c7.staticflickr.com/2/1008/542976933_4...   \n",
              "5   https://c3.staticflickr.com/8/7649/16841063460...   \n",
              "6   https://c5.staticflickr.com/4/3830/9680643729_...   \n",
              "7   https://c5.staticflickr.com/9/8029/8044767268_...   \n",
              "8   https://c1.staticflickr.com/9/8500/8373552555_...   \n",
              "9   https://c6.staticflickr.com/7/6169/6174709881_...   \n",
              "10  https://c8.staticflickr.com/4/3685/19484886498...   \n",
              "\n",
              "                                           ImageLabel  \\\n",
              "0   waterway(0.9653903)|property(0.9045235)|neighb...   \n",
              "1   scuba diving(0.9854413)|underwater diving(0.98...   \n",
              "2   sky(0.9858208)|afterglow(0.9636433)|dawn(0.952...   \n",
              "3                         interior design(0.65215605)   \n",
              "4   sky(0.962839)|grassland(0.92956024)|mountainou...   \n",
              "5   dessert(0.763286)|biscuit(0.70349556)|baked go...   \n",
              "6   fur(0.79217327)|shoe(0.71800923)|plush(0.53875...   \n",
              "7   rock(0.8242284)|adventure(0.69788873)|geology(...   \n",
              "8                                organism(0.64027643)   \n",
              "9   car(0.97778934)|road(0.9350879)|residential ar...   \n",
              "10  white(0.9623204)|photograph(0.9575152)|black(0...   \n",
              "\n",
              "                                ImageLabel_Translated  \n",
              "0   vía fluvial (0.9653903) | propiedad (0.9045235...  \n",
              "1   submarinismo (0.9854413) buceo submarino (0.98...  \n",
              "2   sky (0.9858208) | afterglow (0.9636433) | aman...  \n",
              "3                   diseño de interiores (0.65215605)  \n",
              "4   cielo (0.962839) | pradera (0.92956024) | acci...  \n",
              "5   postre (0.763286) | galleta (0.70349556) | pro...  \n",
              "6   piel (0.79217327) | zapato (0.71800923) | pelu...  \n",
              "7   rock (0.8242284) | aventura (0.69788873) | geo...  \n",
              "8                              organismo (0.64027643)  \n",
              "9   automóvil (0.97778934) | camino (0.9350879) | ...  \n",
              "10  blanco (0.9623204) | fotografía (0.9575152) | ...  "
            ]
          },
          "metadata": {
            "tags": []
          },
          "execution_count": 22
        }
      ]
    },
    {
      "metadata": {
        "id": "D5mIiVgIQL8H",
        "colab_type": "code",
        "colab": {}
      },
      "cell_type": "code",
      "source": [
        "#export to BigQuery for data analysis using SQL\n",
        "#ensure you create a dataset in BigQuery first before exporting\n",
        "df.to_gbq('colaboratory_demo.demo_data', \"demos-sung\", chunksize=2000, verbose=True, if_exists='append')"
      ],
      "execution_count": 0,
      "outputs": []
    }
  ]
}
